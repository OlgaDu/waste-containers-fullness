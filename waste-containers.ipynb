{
 "cells": [
  {
   "cell_type": "code",
   "execution_count": 45,
   "id": "22de0c4f-22d5-4c17-8844-5d374087aeae",
   "metadata": {},
   "outputs": [],
   "source": [
    "import pandas as pd \n",
    "import numpy as np\n",
    "import geopandas as gpd\n",
    "import matplotlib.pyplot as plt\n",
    "import seaborn as sns"
   ]
  },
  {
   "cell_type": "code",
   "execution_count": 154,
   "id": "5d6b63c5-5c34-4e5e-8d70-91d114adbc04",
   "metadata": {},
   "outputs": [
    {
     "name": "stdout",
     "output_type": "stream",
     "text": [
      "(66615, 12)\n",
      "         id  container_id         code  percent_calculated  upturned  \\\n",
      "0  11678631         30133  S0133C01336                  53         0   \n",
      "1  11677936         30133  S0133C01336                  53         0   \n",
      "2  11676616         30133  S0133C01336                  53         0   \n",
      "3  11675949         30142  S0135C01353                  32         0   \n",
      "4  11675836         30040  S0050C00502                  64         0   \n",
      "\n",
      "   temperature  battery_status               measured_at  \\\n",
      "0           25            3.74  2019-03-30T23:09:29.000Z   \n",
      "1           26            3.74  2019-03-30T21:09:29.000Z   \n",
      "2           26            3.74  2019-03-30T19:09:28.000Z   \n",
      "3           15            3.77  2019-03-30T18:00:17.000Z   \n",
      "4           14            3.60  2019-03-30T17:56:09.000Z   \n",
      "\n",
      "            measured_at_utc                prediction  \\\n",
      "0  2019-03-30T23:09:29.000Z  2019-05-13T12:39:17.000Z   \n",
      "1  2019-03-30T21:09:29.000Z  2019-05-13T12:39:17.000Z   \n",
      "2  2019-03-30T19:09:28.000Z  2019-05-13T12:39:17.000Z   \n",
      "3  2019-03-30T18:00:17.000Z                       NaN   \n",
      "4  2019-03-30T17:56:09.000Z  2019-04-14T21:43:38.000Z   \n",
      "\n",
      "             prediction_utc  firealarm  \n",
      "0  2019-05-13T12:39:17.000Z          0  \n",
      "1  2019-05-13T12:39:17.000Z          0  \n",
      "2  2019-05-13T12:39:17.000Z          0  \n",
      "3                       NaN          0  \n",
      "4  2019-04-14T21:43:38.000Z          0  \n"
     ]
    }
   ],
   "source": [
    "df = pd.read_csv(\"measurements-march.csv\")\n",
    "print(df.shape)\n",
    "print(df.head())"
   ]
  },
  {
   "cell_type": "code",
   "execution_count": 155,
   "id": "f81b398c-72af-4ffd-b199-14d205c69817",
   "metadata": {},
   "outputs": [
    {
     "name": "stdout",
     "output_type": "stream",
     "text": [
      "<class 'pandas.core.frame.DataFrame'>\n",
      "RangeIndex: 66615 entries, 0 to 66614\n",
      "Data columns (total 12 columns):\n",
      " #   Column              Non-Null Count  Dtype  \n",
      "---  ------              --------------  -----  \n",
      " 0   id                  66615 non-null  int64  \n",
      " 1   container_id        66615 non-null  int64  \n",
      " 2   code                66615 non-null  object \n",
      " 3   percent_calculated  66615 non-null  int64  \n",
      " 4   upturned            66615 non-null  int64  \n",
      " 5   temperature         66615 non-null  int64  \n",
      " 6   battery_status      66615 non-null  float64\n",
      " 7   measured_at         66615 non-null  object \n",
      " 8   measured_at_utc     66615 non-null  object \n",
      " 9   prediction          45608 non-null  object \n",
      " 10  prediction_utc      45608 non-null  object \n",
      " 11  firealarm           66615 non-null  int64  \n",
      "dtypes: float64(1), int64(6), object(5)\n",
      "memory usage: 6.1+ MB\n",
      "None\n"
     ]
    }
   ],
   "source": [
    "print(df.info())"
   ]
  },
  {
   "cell_type": "code",
   "execution_count": 150,
   "id": "f4ed3cf0-7386-4413-9cf1-bc02c7d1fef4",
   "metadata": {},
   "outputs": [
    {
     "name": "stdout",
     "output_type": "stream",
     "text": [
      "[0 1]\n",
      "[0]\n"
     ]
    }
   ],
   "source": [
    "# Prohlížení unikatních hodnot některých sloupců pro lepší porozumění datům\n",
    "print(df[\"upturned\"].unique()) \n",
    "print(df[\"firealarm\"].unique()) "
   ]
  },
  {
   "cell_type": "code",
   "execution_count": 156,
   "id": "58b6c7cf-348a-4df5-a876-0062ab3fc173",
   "metadata": {},
   "outputs": [
    {
     "name": "stdout",
     "output_type": "stream",
     "text": [
      "<class 'pandas.core.frame.DataFrame'>\n",
      "RangeIndex: 66615 entries, 0 to 66614\n",
      "Data columns (total 12 columns):\n",
      " #   Column              Non-Null Count  Dtype              \n",
      "---  ------              --------------  -----              \n",
      " 0   id                  66615 non-null  int64              \n",
      " 1   container_id        66615 non-null  int64              \n",
      " 2   code                66615 non-null  object             \n",
      " 3   percent_calculated  66615 non-null  int64              \n",
      " 4   upturned            66615 non-null  int64              \n",
      " 5   temperature         66615 non-null  int64              \n",
      " 6   battery_status      66615 non-null  float64            \n",
      " 7   measured_at         66615 non-null  datetime64[ns, UTC]\n",
      " 8   measured_at_utc     66615 non-null  datetime64[ns, UTC]\n",
      " 9   prediction          45608 non-null  datetime64[ns, UTC]\n",
      " 10  prediction_utc      45608 non-null  datetime64[ns, UTC]\n",
      " 11  firealarm           66615 non-null  int64              \n",
      "dtypes: datetime64[ns, UTC](4), float64(1), int64(6), object(1)\n",
      "memory usage: 6.1+ MB\n",
      "None\n"
     ]
    }
   ],
   "source": [
    "# Změna datového typu na datetime\n",
    "df[\"measured_at\"] = pd.to_datetime(df[\"measured_at\"])\n",
    "df[\"measured_at_utc\"] = pd.to_datetime(df[\"measured_at_utc\"])\n",
    "df[\"prediction\"] = pd.to_datetime(df[\"prediction\"])\n",
    "df[\"prediction_utc\"] = pd.to_datetime(df[\"prediction_utc\"])\n",
    "print(df.info())"
   ]
  },
  {
   "cell_type": "code",
   "execution_count": 152,
   "id": "5e7cddaf-7ebf-438c-ab0c-2064d2853097",
   "metadata": {},
   "outputs": [
    {
     "name": "stdout",
     "output_type": "stream",
     "text": [
      "                 id  container_id  percent_calculated      upturned  \\\n",
      "count  6.661500e+04  66615.000000        66615.000000  66615.000000   \n",
      "mean   1.141390e+07  30060.423838           55.669714      0.009442   \n",
      "std    1.504700e+05    174.909198           31.707801      0.096712   \n",
      "min    1.116182e+07  29786.000000            0.000000      0.000000   \n",
      "25%    1.128076e+07  29925.000000           32.000000      0.000000   \n",
      "50%    1.141118e+07  30030.000000           58.000000      0.000000   \n",
      "75%    1.154445e+07  30148.000000           83.000000      0.000000   \n",
      "max    1.167863e+07  30413.000000          100.000000      1.000000   \n",
      "\n",
      "        temperature  battery_status  firealarm        time_diff  \n",
      "count  66615.000000    66615.000000    66615.0                1  \n",
      "mean       9.451340        3.626324        0.0  0 days 00:00:00  \n",
      "std        4.084466        0.059252        0.0              NaT  \n",
      "min      -12.000000        3.400000        0.0  0 days 00:00:00  \n",
      "25%        7.000000        3.600000        0.0  0 days 00:00:00  \n",
      "50%        9.000000        3.600000        0.0  0 days 00:00:00  \n",
      "75%       11.000000        3.600000        0.0  0 days 00:00:00  \n",
      "max       48.000000        3.850000        0.0  0 days 00:00:00  \n"
     ]
    }
   ],
   "source": [
    "# Zakladní statistiky\n",
    "print(df.describe())"
   ]
  },
  {
   "cell_type": "code",
   "execution_count": 157,
   "id": "4cdef809-a464-4f23-ac07-b3c7b50ac973",
   "metadata": {},
   "outputs": [
    {
     "name": "stdout",
     "output_type": "stream",
     "text": [
      "id                        0\n",
      "container_id              0\n",
      "code                      0\n",
      "percent_calculated        0\n",
      "upturned                  0\n",
      "temperature               0\n",
      "battery_status            0\n",
      "measured_at               0\n",
      "measured_at_utc           0\n",
      "prediction            21007\n",
      "prediction_utc        21007\n",
      "firealarm                 0\n",
      "dtype: int64\n",
      "id                     0.00000\n",
      "container_id           0.00000\n",
      "code                   0.00000\n",
      "percent_calculated     0.00000\n",
      "upturned               0.00000\n",
      "temperature            0.00000\n",
      "battery_status         0.00000\n",
      "measured_at            0.00000\n",
      "measured_at_utc        0.00000\n",
      "prediction            31.53494\n",
      "prediction_utc        31.53494\n",
      "firealarm              0.00000\n",
      "dtype: float64\n"
     ]
    }
   ],
   "source": [
    "# Počet chybějících hodnot v každém sloupci\n",
    "print(df.isnull().sum())\n",
    "print(df.isnull().sum()/df.shape[0]*100)"
   ]
  },
  {
   "cell_type": "code",
   "execution_count": 159,
   "id": "b168d20d-a5c0-44fc-a128-9d1d64b6cd79",
   "metadata": {},
   "outputs": [
    {
     "name": "stdout",
     "output_type": "stream",
     "text": [
      "1\n",
      "            id  container_id         code  percent_calculated  upturned  \\\n",
      "754   11671084         30051  S0052C00521                  41         0   \n",
      "1039  11671084         30051  S0052C00521                  41         0   \n",
      "\n",
      "      temperature  battery_status               measured_at  \\\n",
      "754            18             3.6 2019-03-30 13:02:49+00:00   \n",
      "1039           18             3.6 2019-03-30 13:02:49+00:00   \n",
      "\n",
      "               measured_at_utc                prediction  \\\n",
      "754  2019-03-30 13:02:49+00:00 2019-04-14 04:00:32+00:00   \n",
      "1039 2019-03-30 13:02:49+00:00 2019-04-14 04:00:32+00:00   \n",
      "\n",
      "                prediction_utc  firealarm  \n",
      "754  2019-04-14 04:00:32+00:00          0  \n",
      "1039 2019-04-14 04:00:32+00:00          0  \n"
     ]
    }
   ],
   "source": [
    "# Kontrola duplicitních řádků\n",
    "print(df.duplicated().sum()) \n",
    "\n",
    "# Zobrazit duplicitní řádky\n",
    "duplicates = df[df.duplicated(keep=False)] \n",
    "print(duplicates)\n",
    "\n",
    "# Zanechat jen jeden řádek ze dvou duplicitních\n",
    "df_cleaned = df.drop_duplicates() \n",
    "\n",
    "df = df_cleaned"
   ]
  },
  {
   "cell_type": "code",
   "execution_count": 160,
   "id": "eb92a567-f39d-4e83-949c-54d5f3b1276c",
   "metadata": {},
   "outputs": [
    {
     "name": "stdout",
     "output_type": "stream",
     "text": [
      "✅ The ID column is unique (no duplicates).\n"
     ]
    }
   ],
   "source": [
    "# Najít duplicitní id\n",
    "duplicate_id = df[df[\"id\"].duplicated(keep=False)]  # Select all duplicate rows\n",
    "\n",
    "# Kontrola duplicitních id\n",
    "if df[\"id\"].is_unique:\n",
    "    print(\"✅ The ID column is unique (no duplicates).\")\n",
    "else:\n",
    "    print(\"❌ The ID column has duplicates!\")\n",
    "    print(duplicate_id)"
   ]
  },
  {
   "cell_type": "code",
   "execution_count": 162,
   "id": "5dbc645e-00c6-41f0-b751-bc092b821b62",
   "metadata": {},
   "outputs": [
    {
     "name": "stdout",
     "output_type": "stream",
     "text": [
      "      id         code   latitude  longitude        address district  \\\n",
      "0  29866  S0001C00011  50.088839  14.410216    Cihelná 548     None   \n",
      "1  29867  S0001C00012  50.088839  14.410216    Cihelná 548     None   \n",
      "2  29882  S0002C00021  50.090378  14.423075  Haštalská 748     None   \n",
      "3  29883  S0002C00022  50.090378  14.423075  Haštalská 748     None   \n",
      "4  29884  S0002C00023  50.090378  14.423075  Haštalská 748     None   \n",
      "\n",
      "  postal_code  total_volume        trash_type                prediction  \\\n",
      "0       11000          3000           plastic                       NaT   \n",
      "1       11000          3000             paper                       NaT   \n",
      "2       11000          3000             paper                       NaT   \n",
      "3       11000          3000           plastic 2019-04-13 22:39:24+00:00   \n",
      "4       11000          1500  beverage_cartons                       NaT   \n",
      "\n",
      "            bin_type              installed_at                   geometry  \n",
      "0  Schäfer/Europa-OV 2018-12-18 00:00:00+00:00  POINT (14.41022 50.08884)  \n",
      "1  Schäfer/Europa-OV 2018-12-18 00:00:00+00:00  POINT (14.41022 50.08884)  \n",
      "2  Schäfer/Europa-OV 2018-12-18 00:00:00+00:00  POINT (14.42308 50.09038)  \n",
      "3  Schäfer/Europa-OV 2018-12-18 00:00:00+00:00  POINT (14.42308 50.09038)  \n",
      "4  Schäfer/Europa-OV 2018-12-18 00:00:00+00:00  POINT (14.42308 50.09038)  \n",
      "<class 'geopandas.geodataframe.GeoDataFrame'>\n",
      "RangeIndex: 424 entries, 0 to 423\n",
      "Data columns (total 13 columns):\n",
      " #   Column        Non-Null Count  Dtype              \n",
      "---  ------        --------------  -----              \n",
      " 0   id            424 non-null    int32              \n",
      " 1   code          424 non-null    object             \n",
      " 2   latitude      424 non-null    float64            \n",
      " 3   longitude     424 non-null    float64            \n",
      " 4   address       424 non-null    object             \n",
      " 5   district      140 non-null    object             \n",
      " 6   postal_code   424 non-null    object             \n",
      " 7   total_volume  424 non-null    int32              \n",
      " 8   trash_type    424 non-null    object             \n",
      " 9   prediction    312 non-null    datetime64[ms, UTC]\n",
      " 10  bin_type      424 non-null    object             \n",
      " 11  installed_at  418 non-null    datetime64[ms, UTC]\n",
      " 12  geometry      424 non-null    geometry           \n",
      "dtypes: datetime64[ms, UTC](2), float64(2), geometry(1), int32(2), object(6)\n",
      "memory usage: 39.9+ KB\n",
      "None\n",
      "                 id    latitude   longitude  total_volume\n",
      "count    424.000000  424.000000  424.000000    424.000000\n",
      "mean   30061.823113   50.086613   14.441905   2291.981132\n",
      "std      175.250403    0.035803    0.044371    777.692434\n",
      "min    29786.000000   49.979612   14.346298   1100.000000\n",
      "25%    29926.750000   50.081912   14.407461   1500.000000\n",
      "50%    30033.000000   50.090378   14.448508   3000.000000\n",
      "75%    30150.250000   50.107795   14.476855   3000.000000\n",
      "max    30413.000000   50.134524   14.507365   4000.000000\n"
     ]
    }
   ],
   "source": [
    "gdf = gpd.read_file(\"containers.geojson\")\n",
    "print(gdf.head())\n",
    "print(gdf.info())\n",
    "print(gdf.describe())"
   ]
  },
  {
   "cell_type": "code",
   "execution_count": 163,
   "id": "2403c456-7c22-4d22-ac08-d11f91be60d7",
   "metadata": {},
   "outputs": [
    {
     "name": "stdout",
     "output_type": "stream",
     "text": [
      "id                0\n",
      "code              0\n",
      "latitude          0\n",
      "longitude         0\n",
      "address           0\n",
      "district        284\n",
      "postal_code       0\n",
      "total_volume      0\n",
      "trash_type        0\n",
      "prediction      112\n",
      "bin_type          0\n",
      "installed_at      6\n",
      "geometry          0\n",
      "dtype: int64\n",
      "id               0.000000\n",
      "code             0.000000\n",
      "latitude         0.000000\n",
      "longitude        0.000000\n",
      "address          0.000000\n",
      "district        66.981132\n",
      "postal_code      0.000000\n",
      "total_volume     0.000000\n",
      "trash_type       0.000000\n",
      "prediction      26.415094\n",
      "bin_type         0.000000\n",
      "installed_at     1.415094\n",
      "geometry         0.000000\n",
      "dtype: float64\n"
     ]
    }
   ],
   "source": [
    "# Počet chybějících hodnot v každém sloupci\n",
    "print(gdf.isnull().sum())\n",
    "print(gdf.isnull().sum()/gdf.shape[0]*100)"
   ]
  },
  {
   "cell_type": "code",
   "execution_count": 164,
   "id": "517cb780-6956-4d38-aa1d-1d2536184e27",
   "metadata": {},
   "outputs": [
    {
     "name": "stdout",
     "output_type": "stream",
     "text": [
      "0\n",
      "Empty GeoDataFrame\n",
      "Columns: [id, code, latitude, longitude, address, district, postal_code, total_volume, trash_type, prediction, bin_type, installed_at, geometry]\n",
      "Index: []\n"
     ]
    }
   ],
   "source": [
    "# Kontrola duplicit\n",
    "print(gdf.duplicated().sum()) \n",
    "\n",
    "# Zobrazit duplicitní řádky\n",
    "duplicates = gdf[gdf.duplicated(keep=False)] \n",
    "print(duplicates)\n",
    "\n",
    "# Zanechat jen jeden řádek ze dvou duplicitních\n",
    "gdf_cleaned = gdf.drop_duplicates() "
   ]
  },
  {
   "cell_type": "code",
   "execution_count": 165,
   "id": "f75f5fec-69ae-48e6-86fc-b310d52d67a0",
   "metadata": {},
   "outputs": [
    {
     "name": "stdout",
     "output_type": "stream",
     "text": [
      "✅ The ID column is unique (no duplicates).\n"
     ]
    }
   ],
   "source": [
    "# Najít duplicitní id\n",
    "duplicate_id = gdf[gdf['id'].duplicated(keep=False)]  # Select all duplicate rows\n",
    "\n",
    "# Kontrola duplicitních id\n",
    "if gdf['id'].is_unique:\n",
    "    print(\"✅ The ID column is unique (no duplicates).\")\n",
    "else:\n",
    "    print(\"❌ The ID column has duplicates!\")\n",
    "    print(duplicate_id)"
   ]
  },
  {
   "cell_type": "code",
   "execution_count": 8,
   "id": "ca9fc562-a513-4a7e-b283-79c9010a1961",
   "metadata": {},
   "outputs": [],
   "source": [
    "# Spojení tabulek \n",
    "data = df.merge(gdf, left_on=\"container_id\", right_on=\"id\", how=\"left\")\n"
   ]
  },
  {
   "cell_type": "code",
   "execution_count": 166,
   "id": "2febcfa5-3255-459a-af42-59271ebb41b1",
   "metadata": {},
   "outputs": [
    {
     "name": "stdout",
     "output_type": "stream",
     "text": [
      "<class 'pandas.core.frame.DataFrame'>\n",
      "RangeIndex: 66615 entries, 0 to 66614\n",
      "Data columns (total 30 columns):\n",
      " #   Column                 Non-Null Count  Dtype              \n",
      "---  ------                 --------------  -----              \n",
      " 0   id_x                   66615 non-null  int64              \n",
      " 1   container_id           66615 non-null  int64              \n",
      " 2   code_x                 66615 non-null  object             \n",
      " 3   percent_calculated     66615 non-null  int64              \n",
      " 4   upturned               66615 non-null  int64              \n",
      " 5   temperature            66615 non-null  int64              \n",
      " 6   battery_status         66615 non-null  float64            \n",
      " 7   measured_at            66615 non-null  object             \n",
      " 8   measured_at_utc        66615 non-null  object             \n",
      " 9   prediction_x           45608 non-null  object             \n",
      " 10  prediction_utc         45608 non-null  object             \n",
      " 11  firealarm              66615 non-null  int64              \n",
      " 12  id_y                   66615 non-null  int32              \n",
      " 13  code_y                 66615 non-null  object             \n",
      " 14  latitude               66615 non-null  float64            \n",
      " 15  longitude              66615 non-null  float64            \n",
      " 16  address                66615 non-null  object             \n",
      " 17  district               21025 non-null  object             \n",
      " 18  postal_code            66615 non-null  object             \n",
      " 19  total_volume           66615 non-null  int32              \n",
      " 20  trash_type             66615 non-null  object             \n",
      " 21  prediction_y           49635 non-null  datetime64[ms, UTC]\n",
      " 22  bin_type               66615 non-null  object             \n",
      " 23  installed_at           65675 non-null  datetime64[ms, UTC]\n",
      " 24  geometry               66615 non-null  geometry           \n",
      " 25  prev_percent           66191 non-null  float64            \n",
      " 26  waste_removed_filling  66615 non-null  bool               \n",
      " 27  waste_removed          66615 non-null  bool               \n",
      " 28  pre_removal_percent    2063 non-null   float64            \n",
      " 29  waste_removal_time     2063 non-null   object             \n",
      "dtypes: bool(2), datetime64[ms, UTC](2), float64(5), geometry(1), int32(2), int64(6), object(12)\n",
      "memory usage: 13.8+ MB\n",
      "None\n",
      "       id_x  container_id       code_x  percent_calculated  upturned  \\\n",
      "0  11678631         30133  S0133C01336                  53         0   \n",
      "1  11677936         30133  S0133C01336                  53         0   \n",
      "2  11676616         30133  S0133C01336                  53         0   \n",
      "3  11675949         30142  S0135C01353                  32         0   \n",
      "4  11675836         30040  S0050C00502                  64         0   \n",
      "\n",
      "   temperature  battery_status               measured_at  \\\n",
      "0           25            3.74  2019-03-30T23:09:29.000Z   \n",
      "1           26            3.74  2019-03-30T21:09:29.000Z   \n",
      "2           26            3.74  2019-03-30T19:09:28.000Z   \n",
      "3           15            3.77  2019-03-30T18:00:17.000Z   \n",
      "4           14            3.60  2019-03-30T17:56:09.000Z   \n",
      "\n",
      "            measured_at_utc              prediction_x  ...      trash_type  \\\n",
      "0  2019-03-30T23:09:29.000Z  2019-05-13T12:39:17.000Z  ...           metal   \n",
      "1  2019-03-30T21:09:29.000Z  2019-05-13T12:39:17.000Z  ...           metal   \n",
      "2  2019-03-30T19:09:28.000Z  2019-05-13T12:39:17.000Z  ...           metal   \n",
      "3  2019-03-30T18:00:17.000Z                       NaN  ...  glass_coloured   \n",
      "4  2019-03-30T17:56:09.000Z  2019-04-14T21:43:38.000Z  ...         plastic   \n",
      "\n",
      "               prediction_y              bin_type              installed_at  \\\n",
      "0 2019-05-13 12:39:17+00:00       Bammens Memphis 2019-01-13 00:00:00+00:00   \n",
      "1 2019-05-13 12:39:17+00:00       Bammens Memphis 2019-01-13 00:00:00+00:00   \n",
      "2 2019-05-13 12:39:17+00:00       Bammens Memphis 2019-01-13 00:00:00+00:00   \n",
      "3                       NaT       Bammens Memphis 2019-01-13 00:00:00+00:00   \n",
      "4 2019-04-14 23:47:08+00:00  Schäfer/Europa-OR/GB 2018-12-05 00:00:00+00:00   \n",
      "\n",
      "                    geometry  prev_percent waste_removed_filling  \\\n",
      "0  POINT (14.46332 50.09478)          53.0                 False   \n",
      "1  POINT (14.46332 50.09478)          53.0                 False   \n",
      "2  POINT (14.46332 50.09478)          54.0                 False   \n",
      "3  POINT (14.47385 50.10853)          32.0                 False   \n",
      "4  POINT (14.46146 50.08682)          58.0                 False   \n",
      "\n",
      "  waste_removed pre_removal_percent  waste_removal_time  \n",
      "0         False                 NaN                 NaN  \n",
      "1         False                 NaN                 NaN  \n",
      "2         False                 NaN                 NaN  \n",
      "3         False                 NaN                 NaN  \n",
      "4         False                 NaN                 NaN  \n",
      "\n",
      "[5 rows x 30 columns]\n"
     ]
    }
   ],
   "source": [
    "# Kontrola výsledku\n",
    "print(data.info())\n",
    "print(data.head())"
   ]
  },
  {
   "cell_type": "code",
   "execution_count": 32,
   "id": "1d902ccc-09c7-4953-8c28-86b7fd820f5f",
   "metadata": {},
   "outputs": [
    {
     "name": "stdout",
     "output_type": "stream",
     "text": [
      "['metal' 'glass_coloured' 'plastic' 'paper' 'beverage_cartons'\n",
      " 'glass_white']\n"
     ]
    }
   ],
   "source": [
    "# Získání unikátních hodnot ve sloupci 'trash_type'\n",
    "unique_trash_types = data['trash_type'].unique()\n",
    "\n",
    "# Výpis unikátních hodnot\n",
    "print(unique_trash_types)"
   ]
  },
  {
   "cell_type": "code",
   "execution_count": 48,
   "id": "ce7144b4-9daf-4f4c-848c-920a90f27f4a",
   "metadata": {},
   "outputs": [
    {
     "name": "stdout",
     "output_type": "stream",
     "text": [
      "<class 'pandas.core.frame.DataFrame'>\n",
      "RangeIndex: 66615 entries, 0 to 66614\n",
      "Data columns (total 25 columns):\n",
      " #   Column              Non-Null Count  Dtype              \n",
      "---  ------              --------------  -----              \n",
      " 0   id_x                66615 non-null  int64              \n",
      " 1   container_id        66615 non-null  int64              \n",
      " 2   code_x              66615 non-null  object             \n",
      " 3   percent_calculated  66615 non-null  int64              \n",
      " 4   upturned            66615 non-null  int64              \n",
      " 5   temperature         66615 non-null  int64              \n",
      " 6   battery_status      66615 non-null  float64            \n",
      " 7   measured_at         66615 non-null  object             \n",
      " 8   measured_at_utc     66615 non-null  object             \n",
      " 9   prediction_x        45608 non-null  object             \n",
      " 10  prediction_utc      45608 non-null  object             \n",
      " 11  firealarm           66615 non-null  int64              \n",
      " 12  id_y                66615 non-null  int32              \n",
      " 13  code_y              66615 non-null  object             \n",
      " 14  latitude            66615 non-null  float64            \n",
      " 15  longitude           66615 non-null  float64            \n",
      " 16  address             66615 non-null  object             \n",
      " 17  district            21025 non-null  object             \n",
      " 18  postal_code         66615 non-null  object             \n",
      " 19  total_volume        66615 non-null  int32              \n",
      " 20  trash_type          66615 non-null  object             \n",
      " 21  prediction_y        49635 non-null  datetime64[ms, UTC]\n",
      " 22  bin_type            66615 non-null  object             \n",
      " 23  installed_at        65675 non-null  datetime64[ms, UTC]\n",
      " 24  geometry            66615 non-null  geometry           \n",
      "dtypes: datetime64[ms, UTC](2), float64(3), geometry(1), int32(2), int64(6), object(11)\n",
      "memory usage: 12.2+ MB\n",
      "None\n"
     ]
    }
   ],
   "source": [
    "print(data.info())"
   ]
  },
  {
   "cell_type": "code",
   "execution_count": 167,
   "id": "33234ec2-7222-46c6-9acf-68f46cff2613",
   "metadata": {},
   "outputs": [
    {
     "name": "stdout",
     "output_type": "stream",
     "text": [
      "<class 'pandas.core.frame.DataFrame'>\n",
      "RangeIndex: 66615 entries, 0 to 66614\n",
      "Data columns (total 30 columns):\n",
      " #   Column                 Non-Null Count  Dtype              \n",
      "---  ------                 --------------  -----              \n",
      " 0   id_x                   66615 non-null  int64              \n",
      " 1   container_id           66615 non-null  int64              \n",
      " 2   code_x                 66615 non-null  object             \n",
      " 3   percent_calculated     66615 non-null  int64              \n",
      " 4   upturned               66615 non-null  int64              \n",
      " 5   temperature            66615 non-null  int64              \n",
      " 6   battery_status         66615 non-null  float64            \n",
      " 7   measured_at            66615 non-null  datetime64[ns, UTC]\n",
      " 8   measured_at_utc        66615 non-null  datetime64[ns, UTC]\n",
      " 9   prediction_x           45608 non-null  datetime64[ns, UTC]\n",
      " 10  prediction_utc         45608 non-null  datetime64[ns, UTC]\n",
      " 11  firealarm              66615 non-null  int64              \n",
      " 12  id_y                   66615 non-null  int32              \n",
      " 13  code_y                 66615 non-null  object             \n",
      " 14  latitude               66615 non-null  float64            \n",
      " 15  longitude              66615 non-null  float64            \n",
      " 16  address                66615 non-null  object             \n",
      " 17  district               21025 non-null  object             \n",
      " 18  postal_code            66615 non-null  object             \n",
      " 19  total_volume           66615 non-null  int32              \n",
      " 20  trash_type             66615 non-null  object             \n",
      " 21  prediction_y           49635 non-null  datetime64[ms, UTC]\n",
      " 22  bin_type               66615 non-null  object             \n",
      " 23  installed_at           65675 non-null  datetime64[ms, UTC]\n",
      " 24  geometry               66615 non-null  geometry           \n",
      " 25  prev_percent           66191 non-null  float64            \n",
      " 26  waste_removed_filling  66615 non-null  bool               \n",
      " 27  waste_removed          66615 non-null  bool               \n",
      " 28  pre_removal_percent    2063 non-null   float64            \n",
      " 29  waste_removal_time     2063 non-null   object             \n",
      "dtypes: bool(2), datetime64[ms, UTC](2), datetime64[ns, UTC](4), float64(5), geometry(1), int32(2), int64(6), object(8)\n",
      "memory usage: 13.8+ MB\n",
      "None\n"
     ]
    }
   ],
   "source": [
    "# Změna datovho typu na datetime\n",
    "data[\"measured_at\"] = pd.to_datetime(data[\"measured_at\"])\n",
    "data[\"measured_at_utc\"] = pd.to_datetime(data[\"measured_at_utc\"])\n",
    "data[\"prediction_x\"] = pd.to_datetime(data[\"prediction_x\"])\n",
    "data[\"prediction_utc\"] = pd.to_datetime(data[\"prediction_utc\"])\n",
    "print(data.info())"
   ]
  },
  {
   "cell_type": "code",
   "execution_count": 169,
   "id": "174f2803-2fb0-4927-9d5e-3de1b9a02e57",
   "metadata": {},
   "outputs": [
    {
     "data": {
      "image/png": "[encoded data removed]",
      "text/plain": [
       "<Figure size 640x480 with 1 Axes>"
      ]
     },
     "metadata": {},
     "output_type": "display_data"
    }
   ],
   "source": [
    "# Histogram \n",
    "plt.hist(data[\"trash_type\"], bins=30, color='blue')\n",
    "plt.xlabel(\"Values\")\n",
    "plt.ylabel(\"Frequency\")\n",
    "plt.title(\"Trash Types\")\n",
    "plt.show()"
   ]
  },
  {
   "cell_type": "code",
   "execution_count": 26,
   "id": "ac06c80e-5cce-4354-ab85-3d74f44a17d7",
   "metadata": {},
   "outputs": [
    {
     "data": {
      "image/png": "[encoded data removed]",
      "text/plain": [
       "<Figure size 640x480 with 1 Axes>"
      ]
     },
     "metadata": {},
     "output_type": "display_data"
    }
   ],
   "source": [
    "sns.boxplot(x=data[\"percent_calculated\"])\n",
    "plt.show()"
   ]
  },
  {
   "cell_type": "code",
   "execution_count": 170,
   "id": "ccae09c3-9cee-4086-96d0-04c51c2f9314",
   "metadata": {},
   "outputs": [],
   "source": [
    "# Zjištění předchozí naměřené hodnoty\n",
    "data[\"prev_percent\"] = df.groupby(\"container_id\")[\"percent_calculated\"].shift(1) \n",
    "\n",
    "# Identifikace uskutečnení odvozu odpadu\n",
    "data[\"waste_removed\"] = (data[\"prev_percent\"] - data[\"percent_calculated\"] >= 5) & (data[\"percent_calculated\"] < 50)\n",
    "\n",
    "# Identifikace poslední naměřené hodnoty zaplněnosti každého kontejnerů před svozem odpadu\n",
    "data[\"pre_removal_percent\"] = data[\"prev_percent\"].where(data[\"waste_removed\"])"
   ]
  },
  {
   "cell_type": "code",
   "execution_count": 171,
   "id": "caf8f15e-9255-4471-a7a0-1344fdd7e4bd",
   "metadata": {},
   "outputs": [],
   "source": [
    "# Identifikace času odvozu odpadu\n",
    "data[\"waste_removal_time\"] = data[\"measured_at\"].where(data[\"waste_removed\"])"
   ]
  },
  {
   "cell_type": "code",
   "execution_count": 173,
   "id": "b369c133-83cb-47bd-99f9-392b48423a3c",
   "metadata": {},
   "outputs": [
    {
     "name": "stdout",
     "output_type": "stream",
     "text": [
      "        id_x  container_id       code_x  percent_calculated  upturned  \\\n",
      "3   11675949         30142  S0135C01353                  32         0   \n",
      "9   11675799         29990  S0033C00334                  73         0   \n",
      "13  11675742         30149  S0136C01364                  48         0   \n",
      "15  11675734         30078  S0057C00573                   0         0   \n",
      "17  11675732         30037  S0049C00496                  61         0   \n",
      "\n",
      "    temperature  battery_status               measured_at  \\\n",
      "3            15            3.77 2019-03-30 18:00:17+00:00   \n",
      "9            13            3.60 2019-03-30 17:45:09+00:00   \n",
      "13           16            3.60 2019-03-30 17:30:56+00:00   \n",
      "15           19            3.60 2019-03-30 17:29:50+00:00   \n",
      "17           13            3.60 2019-03-30 17:29:48+00:00   \n",
      "\n",
      "             measured_at_utc              prediction_x  ...      trash_type  \\\n",
      "3  2019-03-30 18:00:17+00:00                       NaT  ...  glass_coloured   \n",
      "9  2019-03-30 17:45:09+00:00 2019-04-28 23:35:51+00:00  ...  glass_coloured   \n",
      "13 2019-03-30 17:30:56+00:00 2019-07-14 03:34:01+00:00  ...     glass_white   \n",
      "15 2019-03-30 17:29:50+00:00 2019-04-16 11:06:23+00:00  ...  glass_coloured   \n",
      "17 2019-03-30 17:29:48+00:00 2021-07-17 17:21:26+00:00  ...     glass_white   \n",
      "\n",
      "                prediction_y              bin_type              installed_at  \\\n",
      "3                        NaT       Bammens Memphis 2019-01-13 00:00:00+00:00   \n",
      "9  2019-04-27 16:49:19+00:00       Bammens Memphis 2019-01-13 00:00:00+00:00   \n",
      "13 2019-07-22 09:33:14+00:00       Bammens Memphis 2019-01-13 00:00:00+00:00   \n",
      "15 2019-04-14 21:44:43+00:00  Schäfer/Europa-OR/GB 2018-12-05 00:00:00+00:00   \n",
      "17 2021-07-17 19:21:45+00:00  Schäfer/Europa-OR/GB 2018-12-18 00:00:00+00:00   \n",
      "\n",
      "                     geometry  prev_percent waste_removed_filling  \\\n",
      "3   POINT (14.47385 50.10853)          32.0                 False   \n",
      "9   POINT (14.50557 50.12586)          73.0                 False   \n",
      "13  POINT (14.47046 50.11028)          49.0                 False   \n",
      "15  POINT (14.45777 50.08174)           0.0                 False   \n",
      "17  POINT (14.45638 50.08609)          61.0                 False   \n",
      "\n",
      "   waste_removed pre_removal_percent  waste_removal_time  \n",
      "3          False                 NaN                 NaT  \n",
      "9          False                 NaN                 NaT  \n",
      "13         False                 NaN                 NaT  \n",
      "15         False                 NaN                 NaT  \n",
      "17         False                 NaN                 NaT  \n",
      "\n",
      "[5 rows x 30 columns]\n",
      "['glass_coloured' 'glass_white']\n",
      "<class 'pandas.core.frame.DataFrame'>\n",
      "Index: 18736 entries, 3 to 66610\n",
      "Data columns (total 30 columns):\n",
      " #   Column                 Non-Null Count  Dtype              \n",
      "---  ------                 --------------  -----              \n",
      " 0   id_x                   18736 non-null  int64              \n",
      " 1   container_id           18736 non-null  int64              \n",
      " 2   code_x                 18736 non-null  object             \n",
      " 3   percent_calculated     18736 non-null  int64              \n",
      " 4   upturned               18736 non-null  int64              \n",
      " 5   temperature            18736 non-null  int64              \n",
      " 6   battery_status         18736 non-null  float64            \n",
      " 7   measured_at            18736 non-null  datetime64[ns, UTC]\n",
      " 8   measured_at_utc        18736 non-null  datetime64[ns, UTC]\n",
      " 9   prediction_x           15981 non-null  datetime64[ns, UTC]\n",
      " 10  prediction_utc         15981 non-null  datetime64[ns, UTC]\n",
      " 11  firealarm              18736 non-null  int64              \n",
      " 12  id_y                   18736 non-null  int32              \n",
      " 13  code_y                 18736 non-null  object             \n",
      " 14  latitude               18736 non-null  float64            \n",
      " 15  longitude              18736 non-null  float64            \n",
      " 16  address                18736 non-null  object             \n",
      " 17  district               3230 non-null   object             \n",
      " 18  postal_code            18736 non-null  object             \n",
      " 19  total_volume           18736 non-null  int32              \n",
      " 20  trash_type             18736 non-null  object             \n",
      " 21  prediction_y           15971 non-null  datetime64[ms, UTC]\n",
      " 22  bin_type               18736 non-null  object             \n",
      " 23  installed_at           18562 non-null  datetime64[ms, UTC]\n",
      " 24  geometry               18736 non-null  geometry           \n",
      " 25  prev_percent           18610 non-null  float64            \n",
      " 26  waste_removed_filling  18736 non-null  bool               \n",
      " 27  waste_removed          18736 non-null  bool               \n",
      " 28  pre_removal_percent    350 non-null    float64            \n",
      " 29  waste_removal_time     350 non-null    datetime64[ns, UTC]\n",
      "dtypes: bool(2), datetime64[ms, UTC](2), datetime64[ns, UTC](5), float64(5), geometry(1), int32(2), int64(6), object(7)\n",
      "memory usage: 4.0+ MB\n",
      "None\n"
     ]
    }
   ],
   "source": [
    "# Filtrace dat pro zahrnutí pouze skleněných typů odpadů 'glass_coloured' a 'glass_white'\n",
    "glass_data = data[data[\"trash_type\"].isin([\"glass_coloured\", \"glass_white\"])]\n",
    "\n",
    "# Kontrola výsledků\n",
    "print(glass_data.head())\n",
    "print(glass_data[\"trash_type\"].unique()) \n",
    "print(glass_data.info())"
   ]
  },
  {
   "cell_type": "code",
   "execution_count": 21,
   "id": "fea14f5d-03d7-43a6-8d41-c554f25e016a",
   "metadata": {},
   "outputs": [],
   "source": [
    "# Změna datového typu na datetime v glass_data\n",
    "glass_data = glass_data.copy()\n",
    "glass_data[\"measured_at\"] = pd.to_datetime(glass_data[\"measured_at\"])\n",
    "glass_data[\"measured_at_utc\"] = pd.to_datetime(glass_data[\"measured_at_utc\"])"
   ]
  },
  {
   "cell_type": "code",
   "execution_count": 176,
   "id": "26e639eb-039a-49f2-b721-5a4c3fbdfe6c",
   "metadata": {
    "scrolled": true
   },
   "outputs": [
    {
     "data": {
      "text/plain": [
       "id_x                                   int64\n",
       "container_id                           int64\n",
       "code_x                                object\n",
       "percent_calculated                     int64\n",
       "upturned                               int64\n",
       "temperature                            int64\n",
       "battery_status                       float64\n",
       "measured_at              datetime64[ns, UTC]\n",
       "measured_at_utc          datetime64[ns, UTC]\n",
       "prediction_x             datetime64[ns, UTC]\n",
       "prediction_utc           datetime64[ns, UTC]\n",
       "firealarm                              int64\n",
       "id_y                                   int32\n",
       "code_y                                object\n",
       "latitude                             float64\n",
       "longitude                            float64\n",
       "address                               object\n",
       "district                              object\n",
       "postal_code                           object\n",
       "total_volume                           int32\n",
       "trash_type                            object\n",
       "prediction_y             datetime64[ms, UTC]\n",
       "bin_type                              object\n",
       "installed_at             datetime64[ms, UTC]\n",
       "geometry                            geometry\n",
       "prev_percent                         float64\n",
       "waste_removed_filling                   bool\n",
       "waste_removed                           bool\n",
       "pre_removal_percent                  float64\n",
       "waste_removal_time       datetime64[ns, UTC]\n",
       "dtype: object"
      ]
     },
     "execution_count": 176,
     "metadata": {},
     "output_type": "execute_result"
    }
   ],
   "source": [
    "glass_data.dtypes"
   ]
  },
  {
   "cell_type": "code",
   "execution_count": 67,
   "id": "6a4a659f-bff6-45bd-9cc6-5905b2f202f7",
   "metadata": {},
   "outputs": [
    {
     "name": "stdout",
     "output_type": "stream",
     "text": [
      "glass_data je DataFrame\n"
     ]
    }
   ],
   "source": [
    "if isinstance(glass_data, gpd.GeoDataFrame):\n",
    "    print(\"glass_data je GeoDataFrame\")\n",
    "else:\n",
    "    print(\"glass_data je DataFrame\")"
   ]
  },
  {
   "cell_type": "code",
   "execution_count": 68,
   "id": "265bf036-fc53-48f8-8380-17a50d451695",
   "metadata": {},
   "outputs": [],
   "source": [
    "# Převod DataFrame na GeoDataFrame\n",
    "glass_data = gpd.GeoDataFrame(glass_data)"
   ]
  },
  {
   "cell_type": "code",
   "execution_count": 69,
   "id": "95f5602b-9b31-45c8-af73-2efc40f6a9af",
   "metadata": {},
   "outputs": [
    {
     "name": "stdout",
     "output_type": "stream",
     "text": [
      "glass_data je GeoDataFrame\n"
     ]
    }
   ],
   "source": [
    "if isinstance(glass_data, gpd.GeoDataFrame):\n",
    "    print(\"glass_data je GeoDataFrame\")\n",
    "else:\n",
    "    print(\"glass_data je DataFrame\")"
   ]
  },
  {
   "cell_type": "code",
   "execution_count": 177,
   "id": "4529f85e-e0d3-4567-abf0-a2e070200c7d",
   "metadata": {},
   "outputs": [],
   "source": [
    "data.to_csv(\"data.csv\", index=False)"
   ]
  },
  {
   "cell_type": "code",
   "execution_count": 178,
   "id": "07d6ca79-3879-42da-ae35-e79925b0f4b9",
   "metadata": {},
   "outputs": [],
   "source": [
    "glass_data.to_csv(\"glass_data.csv\", index=False)"
   ]
  },
  {
   "cell_type": "code",
   "execution_count": 36,
   "id": "2b4d9c58-96b6-46f5-9176-fd59b09fbdb4",
   "metadata": {},
   "outputs": [
    {
     "name": "stdout",
     "output_type": "stream",
     "text": [
      "trash_type     glass_coloured  glass_white\n",
      "measured_hour                             \n",
      "4                   48.305263    66.954545\n",
      "5                   47.392810    40.604240\n",
      "6                   58.890411    38.183333\n",
      "7                   47.528710    43.029954\n",
      "8                   46.547619    41.745902\n",
      "9                   46.819926    38.845185\n",
      "10                  50.255034    57.751634\n",
      "11                  46.292632    40.214961\n",
      "12                  53.840000    36.260870\n",
      "13                  46.666229    42.060000\n",
      "14                  61.796610    43.845070\n",
      "15                  43.093750    60.791946\n",
      "16                  44.500000    34.000000\n",
      "17                  46.625468    42.233466\n",
      "18                  51.951613    40.640000\n",
      "19                  26.000000    45.869565\n",
      "20                  64.600000    69.000000\n",
      "21                        NaN    54.857143\n"
     ]
    }
   ],
   "source": [
    "# Průměrné plnění kontejnerů se sklem po hodinách - tabulka\n",
    "glass_data[\"measured_hour\"] = glass_data[\"measured_at\"].dt.hour\n",
    "avg_filling_by_hour = glass_data.groupby([\"measured_hour\", \"trash_type\"])[\"percent_calculated\"].mean().unstack()\n",
    "print(avg_filling_by_hour)"
   ]
  },
  {
   "cell_type": "code",
   "execution_count": 37,
   "id": "26c2cf6f-373d-4249-bf42-72588b9b2826",
   "metadata": {},
   "outputs": [
    {
     "data": {
      "image/png": "[encoded data removed]",
      "text/plain": [
       "<Figure size 1000x500 with 1 Axes>"
      ]
     },
     "metadata": {},
     "output_type": "display_data"
    }
   ],
   "source": [
    "# Průměrné plnění kontejnerů se sklem po hodinách - graf\n",
    "avg_filling_by_hour.plot(kind=\"line\", figsize=(10, 5))\n",
    "plt.xlabel(\"Hodina dne\")\n",
    "plt.ylabel(\"Průměrná naplněnost (%)\")\n",
    "plt.title(\"Průměrná naplněnost kontejnerů podle hodiny a druhu odpadu\")\n",
    "plt.legend(title=\"Trash Type\")\n",
    "plt.show()"
   ]
  },
  {
   "cell_type": "code",
   "execution_count": 52,
   "id": "e61e5e3d-1506-4714-8dbd-5cf1cd1c242b",
   "metadata": {},
   "outputs": [
    {
     "name": "stdout",
     "output_type": "stream",
     "text": [
      "trash_type   glass_coloured  glass_white\n",
      "day_of_week                             \n",
      "Monday            49.241190    44.112688\n",
      "Tuesday           49.803843    44.562399\n",
      "Wednesday         49.790551    42.129112\n",
      "Thursday          44.624518    39.545012\n",
      "Friday            44.996904    39.951456\n",
      "Saturday          45.400249    41.154153\n",
      "Sunday            47.196032    44.194647\n"
     ]
    }
   ],
   "source": [
    "# Průměrné plnění kontejnerů na sklo podle dne v týdnu - tabulka\n",
    "glass_data[\"day_of_week\"] = glass_data[\"measured_at\"].dt.strftime(\"%A\")\n",
    "day_order = [\"Monday\", \"Tuesday\", \"Wednesday\", \"Thursday\", \"Friday\", \"Saturday\", \"Sunday\"]\n",
    "glass_data[\"day_of_week\"] = pd.Categorical(glass_data[\"day_of_week\"], categories=day_order, ordered=True)\n",
    "avg_filling_by_day_of_week = glass_data.groupby([\"day_of_week\", \"trash_type\"], observed=True)[\"percent_calculated\"].mean().unstack()\n",
    "print(avg_filling_by_day_of_week)"
   ]
  },
  {
   "cell_type": "code",
   "execution_count": 54,
   "id": "8c79a721-0ac1-4697-973d-0eba8fc29827",
   "metadata": {},
   "outputs": [
    {
     "data": {
      "image/png": "[encoded data removed]",
      "text/plain": [
       "<Figure size 1000x500 with 1 Axes>"
      ]
     },
     "metadata": {},
     "output_type": "display_data"
    }
   ],
   "source": [
    "# Průměrné plnění kontejnerů na sklo podle dne v týdnu - graf\n",
    "avg_filling_by_day_of_week.plot(kind=\"line\", figsize=(10, 5))\n",
    "plt.xlabel(\"Den týdne\")\n",
    "plt.ylabel(\"Průměrná naplněnost (%)\")\n",
    "plt.title(\"Průměrná naplněnost kontejnerů podle dnu v týdnu a druhu odpadu\")\n",
    "plt.legend(title=\"Trash Type\")\n",
    "plt.show()"
   ]
  },
  {
   "cell_type": "code",
   "execution_count": 131,
   "id": "a0e1bbab-3547-446f-bef9-72f01adf0375",
   "metadata": {},
   "outputs": [
    {
     "name": "stdout",
     "output_type": "stream",
     "text": [
      "5 nejčastěji přeplněných kontejnerů:\n",
      "    container_id  Počet přeplnění\n",
      "8          29926                2\n",
      "9          29931                2\n",
      "11         29935                2\n",
      "4          29881                2\n",
      "12         29981                2\n"
     ]
    }
   ],
   "source": [
    "# 5 nejčastěji přeplněných kontejnerů\n",
    "overfilled_containers = (\n",
    "    glass_data[glass_data[\"pre_removal_percent\"] >= 100]\n",
    "    .groupby(\"container_id\")\n",
    "    .size()\n",
    "    .reset_index(name=\"Počet přeplnění\")  # Přidání sloupce \"count\" s počtem přeplnění\n",
    "    .sort_values(by=\"Počet přeplnění\", ascending=False)\n",
    "    .head(10)\n",
    "    )\n",
    "print(\"5 nejčastěji přeplněných kontejnerů:\")\n",
    "print(overfilled_containers.head(5))  # 5 nejčastěji přeplněných kontejnerů"
   ]
  },
  {
   "cell_type": "code",
   "execution_count": 149,
   "id": "c2403731-338e-4cd8-aa7e-f421b5d54881",
   "metadata": {},
   "outputs": [
    {
     "name": "stdout",
     "output_type": "stream",
     "text": [
      "5 kontejnerů s nejmenším zaplněním:\n",
      "    container_id  Průměrné naplnění před vyprázdněním\n",
      "4          29797                                 6.00\n",
      "84         30074                                 7.00\n",
      "37         29944                                13.50\n",
      "19         29880                                17.40\n",
      "96         30105                                18.75\n"
     ]
    }
   ],
   "source": [
    "# 5 kontejnerů s nejmenším zaplněním\n",
    "average_pre_removal = (\n",
    "    glass_data.groupby(\"container_id\")[\"pre_removal_percent\"]\n",
    "    .mean()\n",
    "    .reset_index(name=\"Průměrné naplnění před vyprázdněním\")\n",
    "    .sort_values(by=\"Průměrné naplnění před vyprázdněním\", ascending=True)  # Sort in ascending order\n",
    "    .head(5)  # Get the 5 lowest values\n",
    ")\n",
    "print(\"5 kontejnerů s nejmenším zaplněním:\")\n",
    "print(average_pre_removal.head(5))"
   ]
  },
  {
   "cell_type": "code",
   "execution_count": null,
   "id": "fb43176c-c801-406c-92bc-2dc47de29fce",
   "metadata": {},
   "outputs": [],
   "source": []
  }
 ],
 "metadata": {
  "kernelspec": {
   "display_name": "Python 3 (ipykernel)",
   "language": "python",
   "name": "python3"
  },
  "language_info": {
   "codemirror_mode": {
    "name": "ipython",
    "version": 3
   },
   "file_extension": ".py",
   "mimetype": "text/x-python",
   "name": "python",
   "nbconvert_exporter": "python",
   "pygments_lexer": "ipython3",
   "version": "3.11.5"
  }
 },
 "nbformat": 4,
 "nbformat_minor": 5
}
